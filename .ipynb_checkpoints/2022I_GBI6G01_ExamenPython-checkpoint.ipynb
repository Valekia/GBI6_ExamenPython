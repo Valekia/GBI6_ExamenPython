{
 "cells": [
  {
   "cell_type": "markdown",
   "metadata": {
    "id": "j7I91ylQMX7L"
   },
   "source": [
    "<img src=\"https://www.ikiam.edu.ec/img/logo-ikiam-grey.png\" width=300 height=240 />\n",
    "\n",
    "# <center><h2> EXAMEN PARCIAL PYTHON</h2></center>\n",
    "    \n",
    "\n",
    "## GBI6-2021II: BIOINFORMÁTICA\n",
    "\n",
    "**Camacho Aguilar, Angiely Valeria**\n",
    "\n",
    "**05-08-2022**\n",
    "<table>\n",
    "  <tr>\n",
    "    <th>Nombre del dispositivo</th>\n",
    "    <th>Componentes</th>\n",
    "    <th>Especificaciones</th>\n",
    "  </tr>\n",
    "  <tr>\n",
    "    <td>Angiely-C</td>\n",
    "    <td>Procesador</td>\n",
    "    <td>Intel(R) Core(TM) i3-7020U CPU @ 2.30GHz   2.30 GHz</td>\n",
    "  </tr>\n",
    "  <tr>\n",
    "    <td></td>\n",
    "    <td>Ram</td>\n",
    "    <td>4,00 GB</td>\n",
    "  </tr>\n",
    "    <tr>\n",
    "    <td></td>\n",
    "    <td>Tipo de sistema</td>\n",
    "    <td>Sistema operativo de 64 bits</td>\n",
    "  </tr>\n",
    "   <tr>\n",
    "    <td></td>\n",
    "    <td>Windows</td>\n",
    "    <td>Windows 10 Pro</td>\n",
    " </tr>\n",
    "</table>"
   ]
  },
  {
   "cell_type": "markdown",
   "metadata": {
    "id": "RnmkYP4zMX7h"
   },
   "source": [
    "<font color='red'>Color de texto</font>\n"
   ]
  },
  {
   "cell_type": "markdown",
   "metadata": {
    "id": "RYal9fJTMX7k"
   },
   "source": [
    "### REQUERIMIENTOS PARA EL EXAMEN\n",
    "\n",
    "Utilice de preferencia ```Jupyter``` de Anaconda, dado que tienen que hacer un control de cambios en cada pregunta. \n",
    "\n",
    "Para este examen se requiere dos documentos: \n",
    "\n",
    "1. Archivo ```miningscience.py``` donde tendrá dos funciones:\n",
    "\n",
    "2. Archivo ```2022I_GBI6_ExamenPython``` donde se llamará las funciones y se obtendrá resultados."
   ]
  },
  {
   "cell_type": "markdown",
   "metadata": {
    "id": "RVXVoyWcMX7r"
   },
   "source": [
    "## Ejercicio 0 [0.5 puntos]\n",
    "Realice cambios al cuaderno de jupyter: \n",
    "- Agregue el logo de la Universidad\n",
    "- Coloque sus datos personales \n",
    "- Escriba una **tabla** con las características de su computador \n"
   ]
  },
  {
   "cell_type": "markdown",
   "metadata": {
    "id": "yMKUSz8hMX7u"
   },
   "source": [
    "## Ejercicio 1 [2 puntos]\n",
    "Cree el archivo ```miningscience.py``` con las siguientes dos funciones:\n",
    "    \n",
    "i. ```download_pubmed```: para descargar la data de PubMed utilizando el **ENTREZ** de Biopython. El parámetro de entrada para la función es el ```keyword```. \n",
    "    \n",
    "ii. ```science_plots```: la función debe \n",
    "\n",
    "- utilizar como argumento de entrada la data descargada por ```download_pubmed```\n",
    "- ordenar los conteos de autores por país en orden ascedente y \n",
    "- seleccionar los cinco más abundantes. Con esta selección debe graficar un ```pie_plot```. Como guía para el conteo por países puede usar el ejemplo de [MapOfScience](https://github.com/CSB-book/CSB/blob/master/regex/solutions/MapOfScience_solution.ipynb). \n",
    "\n",
    "iii *Cree un docstring para cada función.* \n",
    "\n",
    "Luego de crear las funciones, cargue el módulo ```miningscience``` como ```msc``` e **imprima docstring de cada función**.\n"
   ]
  },
  {
   "cell_type": "code",
   "execution_count": 1,
   "metadata": {
    "id": "t9SbbwesMX7y"
   },
   "outputs": [
    {
     "ename": "NameError",
     "evalue": "name 'tipo' is not defined",
     "output_type": "error",
     "traceback": [
      "\u001b[1;31m---------------------------------------------------------------------------\u001b[0m",
      "\u001b[1;31mNameError\u001b[0m                                 Traceback (most recent call last)",
      "Input \u001b[1;32mIn [1]\u001b[0m, in \u001b[0;36m<cell line: 3>\u001b[1;34m()\u001b[0m\n\u001b[0;32m      1\u001b[0m \u001b[38;5;66;03m# Escriba aquí su código para el ejercicio 1\u001b[39;00m\n\u001b[1;32m----> 3\u001b[0m \u001b[38;5;28;01mimport\u001b[39;00m \u001b[38;5;21;01mminingscience\u001b[39;00m\n",
      "File \u001b[1;32m~\\Desktop\\GBI6_ExamenPython\\miningscience.py:46\u001b[0m, in \u001b[0;36m<module>\u001b[1;34m\u001b[0m\n\u001b[0;32m     43\u001b[0m names \u001b[38;5;241m=\u001b[39m []\n\u001b[0;32m     44\u001b[0m work \u001b[38;5;241m=\u001b[39m []\n\u001b[1;32m---> 46\u001b[0m \u001b[38;5;28;01mfor\u001b[39;00m line \u001b[38;5;129;01min\u001b[39;00m \u001b[38;5;28mopen\u001b[39m(\u001b[43mtipo\u001b[49m, \u001b[38;5;124m'\u001b[39m\u001b[38;5;124mr\u001b[39m\u001b[38;5;124m'\u001b[39m):\n\u001b[0;32m     47\u001b[0m     Data \u001b[38;5;241m=\u001b[39m [i \u001b[38;5;28;01mfor\u001b[39;00m i \u001b[38;5;129;01min\u001b[39;00m line\u001b[38;5;241m.\u001b[39msplit()]\n\u001b[0;32m     48\u001b[0m     names\u001b[38;5;241m.\u001b[39mappend(Data[\u001b[38;5;241m0\u001b[39m])\n",
      "\u001b[1;31mNameError\u001b[0m: name 'tipo' is not defined"
     ]
    }
   ],
   "source": [
    "# Escriba aquí su código para el ejercicio 1\n",
    "\n",
    "import miningscience \n"
   ]
  },
  {
   "cell_type": "code",
   "execution_count": null,
   "metadata": {},
   "outputs": [],
   "source": [
    "import miningscience as msc"
   ]
  },
  {
   "cell_type": "code",
   "execution_count": null,
   "metadata": {},
   "outputs": [],
   "source": [
    "help (msc.download_pubmed)\n",
    "help (msc.science_plots)"
   ]
  },
  {
   "cell_type": "markdown",
   "metadata": {
    "id": "UPWubgWNMX76"
   },
   "source": [
    "\n",
    "## Ejercicio 2 [2 puntos]\n",
    "\n",
    "\n",
    "Utilice dos veces la función ```download_pubmed``` para: \n",
    "\n",
    "- Descargar la data, utilizando los keyword de su preferencia. \n",
    "- Guardar el archivo descargado en la carpeta ```data```.\n",
    "\n",
    "Para cada corrida, imprima lo siguiente: \n",
    "\n",
    "```python\n",
    "'El número artículos para KEYWORD es: XX' # Que se cargue con inserción de texto o valor que correspondea KEYWORD y XX\n",
    "```"
   ]
  },
  {
   "cell_type": "code",
   "execution_count": 20,
   "metadata": {
    "id": "QU42idR9MX79"
   },
   "outputs": [
    {
     "name": "stdout",
     "output_type": "stream",
     "text": [
      "El número artículos para KEYWORD es:  2142465\n"
     ]
    }
   ],
   "source": [
    "# Escriba aquí su código para el ejercicio 2\n",
    "# es escribible , write...\n",
    "import os\n",
    "import re\n",
    "a = msc.download_pubmed(\"cats\")\n",
    "b = len (a)\n",
    "print ('El número artículos para KEYWORD es: ',b)\n",
    "with open (\"Data/cats.txt\",\"w\") as txt:\n",
    "    txt.write(a)"
   ]
  },
  {
   "cell_type": "code",
   "execution_count": 21,
   "metadata": {},
   "outputs": [
    {
     "name": "stdout",
     "output_type": "stream",
     "text": [
      "El número artículos para KEYWORD es:  2101470\n"
     ]
    }
   ],
   "source": [
    "import os\n",
    "import re\n",
    "v = msc.download_pubmed(\"dogs\")\n",
    "c = len (v)\n",
    "print ('El número artículos para KEYWORD es: ',c)\n",
    "with open (\"Data/dogs.txt\",\"w\") as txt:\n",
    "    txt.write(v)"
   ]
  },
  {
   "cell_type": "markdown",
   "metadata": {
    "id": "ll92Ps0gMX7_"
   },
   "source": [
    "## Ejercicio 3 [1.5 puntos]\n",
    "\n",
    "Utilice dos veces la función ```science_plots``` para: \n",
    "\n",
    "- Visualizar un pie_plot para cada data descargada en el ejercicio 2.\n",
    "- Guardar los pie_plot en la carpeta ```img```"
   ]
  },
  {
   "cell_type": "code",
   "execution_count": 3,
   "metadata": {
    "id": "EMG54TpWMX8E"
   },
   "outputs": [
    {
     "ename": "NameError",
     "evalue": "name 'msc' is not defined",
     "output_type": "error",
     "traceback": [
      "\u001b[1;31m---------------------------------------------------------------------------\u001b[0m",
      "\u001b[1;31mNameError\u001b[0m                                 Traceback (most recent call last)",
      "Input \u001b[1;32mIn [3]\u001b[0m, in \u001b[0;36m<cell line: 3>\u001b[1;34m()\u001b[0m\n\u001b[0;32m      1\u001b[0m \u001b[38;5;66;03m# Escriba aquí su código para el ejercicio 3\u001b[39;00m\n\u001b[1;32m----> 3\u001b[0m \u001b[43mmsc\u001b[49m\u001b[38;5;241m.\u001b[39mscience_plots(\u001b[38;5;124m'\u001b[39m\u001b[38;5;124mData/dogs.txt\u001b[39m\u001b[38;5;124m'\u001b[39m)\n",
      "\u001b[1;31mNameError\u001b[0m: name 'msc' is not defined"
     ]
    }
   ],
   "source": [
    "# Escriba aquí su código para el ejercicio 3\n",
    "\n",
    "msc.science_plots('Data/dogs.txt') \n",
    "\n"
   ]
  },
  {
   "cell_type": "markdown",
   "metadata": {
    "id": "zkXfHFScMX8O"
   },
   "source": [
    "## Ejercicio 4 [1 punto]\n",
    "\n",
    "**Interprete** los resultados de las figuras del **ejercicio 3**"
   ]
  },
  {
   "cell_type": "markdown",
   "metadata": {
    "id": "JNxma9j6MX8P"
   },
   "source": [
    "*Escriba la respuesta del ejercicio 5*\n",
    ".\n",
    "\n",
    "\n",
    ".\n",
    "\n",
    "."
   ]
  },
  {
   "cell_type": "markdown",
   "metadata": {
    "id": "V2uL17f_MX8R"
   },
   "source": [
    "## Ejercicio 5 [2 puntos]\n",
    "\n",
    "Para algún **gen de las enzimas que intervienen en la ruta metabolica de la gluconeogenesis** ([Lista de genes por tipología](https://www.genome.jp/pathway/map00010+C00068)), realice lo siguiente: \n",
    "\n",
    "1. Una búsqueda en la página del [NCBI nucleotide](https://www.ncbi.nlm.nih.gov/nucleotide/).\n",
    "\n",
    "2. Descargue el ```Accession List``` de su búsqueda y guarde en la carpeta ```data```.\n",
    "\n",
    "3. Cargue el ```Accession List``` en este notebook y haga una descarga de las secuencias de los **quince primeros** IDs de la accesión. \n",
    "\n",
    "4. Arme un árbol filogenético para los resultados del paso 3.\n",
    "\n",
    "5. Guarde su arbol filogénetico en la carpeta ```img```\n",
    "\n",
    "5. Interprete el árbol del paso 4. "
   ]
  },
  {
   "cell_type": "code",
   "execution_count": 15,
   "metadata": {
    "scrolled": false
   },
   "outputs": [
    {
     "ename": "ApplicationError",
     "evalue": "Non-zero return code 4294967295 from '\"C:\\\\Program Files (x86)\\\\ClustalW2\\\\clustalw2.exe\" -infile=Data/SequenceD.fasta', message 'ERROR: No sequences in file. No alignment!'",
     "output_type": "error",
     "traceback": [
      "\u001b[1;31m---------------------------------------------------------------------------\u001b[0m",
      "\u001b[1;31mApplicationError\u001b[0m                          Traceback (most recent call last)",
      "Input \u001b[1;32mIn [15]\u001b[0m, in \u001b[0;36m<cell line: 42>\u001b[1;34m()\u001b[0m\n\u001b[0;32m     40\u001b[0m clustalw_cline \u001b[38;5;241m=\u001b[39m ClustalwCommandline(clustalw_exe, infile \u001b[38;5;241m=\u001b[39m \u001b[38;5;124m\"\u001b[39m\u001b[38;5;124mData/SequenceD.fasta\u001b[39m\u001b[38;5;124m\"\u001b[39m)\n\u001b[0;32m     41\u001b[0m \u001b[38;5;28;01massert\u001b[39;00m os\u001b[38;5;241m.\u001b[39mpath\u001b[38;5;241m.\u001b[39misfile(clustalw_exe), \u001b[38;5;124m\"\u001b[39m\u001b[38;5;124mClustal_W executable is missing or not found\u001b[39m\u001b[38;5;124m\"\u001b[39m\n\u001b[1;32m---> 42\u001b[0m stout,stderr \u001b[38;5;241m=\u001b[39m \u001b[43mclustalw_cline\u001b[49m\u001b[43m(\u001b[49m\u001b[43m)\u001b[49m\n\u001b[0;32m     44\u001b[0m ClustalAlign \u001b[38;5;241m=\u001b[39m AlignIO\u001b[38;5;241m.\u001b[39mread(\u001b[38;5;124m\"\u001b[39m\u001b[38;5;124mData/SequenceD.aln\u001b[39m\u001b[38;5;124m\"\u001b[39m, \u001b[38;5;124m\"\u001b[39m\u001b[38;5;124mclustal\u001b[39m\u001b[38;5;124m\"\u001b[39m)\n\u001b[0;32m     46\u001b[0m calculator \u001b[38;5;241m=\u001b[39m DistanceCalculator(\u001b[38;5;124m'\u001b[39m\u001b[38;5;124midentity\u001b[39m\u001b[38;5;124m'\u001b[39m)\n",
      "File \u001b[1;32m~\\anaconda3\\lib\\site-packages\\Bio\\Application\\__init__.py:574\u001b[0m, in \u001b[0;36mAbstractCommandline.__call__\u001b[1;34m(self, stdin, stdout, stderr, cwd, env)\u001b[0m\n\u001b[0;32m    571\u001b[0m     stderr_arg\u001b[38;5;241m.\u001b[39mclose()\n\u001b[0;32m    573\u001b[0m \u001b[38;5;28;01mif\u001b[39;00m return_code:\n\u001b[1;32m--> 574\u001b[0m     \u001b[38;5;28;01mraise\u001b[39;00m ApplicationError(return_code, \u001b[38;5;28mstr\u001b[39m(\u001b[38;5;28mself\u001b[39m), stdout_str, stderr_str)\n\u001b[0;32m    575\u001b[0m \u001b[38;5;28;01mreturn\u001b[39;00m stdout_str, stderr_str\n",
      "\u001b[1;31mApplicationError\u001b[0m: Non-zero return code 4294967295 from '\"C:\\\\Program Files (x86)\\\\ClustalW2\\\\clustalw2.exe\" -infile=Data/SequenceD.fasta', message 'ERROR: No sequences in file. No alignment!'"
     ]
    }
   ],
   "source": [
    "from Bio.Phylo.TreeConstruction import DistanceTreeConstructor\n",
    "from Bio.Phylo.TreeConstruction import DistanceCalculator \n",
    "from Bio.Align.Applications import ClustalwCommandline\n",
    "from Bio import AlignIO\n",
    "from Bio import Phylo\n",
    "from Bio import Entrez\n",
    "from Bio import SeqIO\n",
    "import Bio\n",
    "import warnings\n",
    "warnings.filterwarnings('ignore')\n",
    "import os\n",
    "import matplotlib\n",
    "import matplotlib.pyplot as plt\n",
    "\n",
    "with open(\"sequence.seq\",\"r\") as archivo:\n",
    "    b=archivo.read()\n",
    "    c=b.split('\\n')\n",
    "    a=0\n",
    "    ListID=[]\n",
    "    for line in c:\n",
    "        if a != 15:\n",
    "            ListID.append(line)\n",
    "            a=a+1\n",
    "\n",
    "Entrez.email = \"gualapuro.moises@gmail.com\" \n",
    "ofile=open('Data/SequenceD.gb','w')\n",
    "with Entrez.efetch( db=\"nucleotide\", rettype=\"gb\", retmode=\"text\", id= ListID) as handle: \n",
    "    for seq_record in SeqIO.parse(handle, \"gb\"): \n",
    "        ofile.write(\">\"+str(seq_record.id)+str(seq_record.description[:50])+'\\n')\n",
    "        ofile.write(str(seq_record.seq)+'\\n')\n",
    "        ofile.write('\\n')\n",
    "\n",
    "ffile=open('Data/SequenceD.fasta','w')\n",
    "with open(\"Data/SequenceD.gb\",'r') as genbank:\n",
    "    c=genbank.read()\n",
    "    for line in c:\n",
    "        ffile.write(str(line))\n",
    "\n",
    "clustalw_exe = r\"C:\\Program Files (x86)\\ClustalW2\\clustalw2.exe\"\n",
    "clustalw_cline = ClustalwCommandline(clustalw_exe, infile = \"Data/SequenceD.fasta\")\n",
    "assert os.path.isfile(clustalw_exe), \"Clustal_W executable is missing or not found\"\n",
    "stout,stderr = clustalw_cline()\n",
    "\n",
    "ClustalAlign = AlignIO.read(\"Data/SequenceD.aln\", \"clustal\")\n",
    "\n",
    "calculator = DistanceCalculator('identity')\n",
    "distance_matrix = calculator.get_distance(ClustalAlign)\n",
    "\n",
    "constructor = DistanceTreeConstructor(calculator)\n",
    "Data_tree = constructor.build_tree(ClustalAlign)\n",
    "Data_tree.rooted = True\n",
    "\n",
    "Phylo.write(Data_tree, \"Data/Data_tree.xml\", \"phyloxml\")\n",
    "\n",
    "fig = plt.figure(figsize=(20, 25), dpi=200)  \n",
    "matplotlib.rc('font', size=12)               \n",
    "matplotlib.rc('xtick', labelsize=10)       \n",
    "matplotlib.rc('ytick', labelsize=10)       \n",
    "axes = fig.add_subplot(1, 1, 1)\n",
    "Phylo.draw(Data_tree, axes=axes)"
   ]
  },
  {
   "cell_type": "code",
   "execution_count": 20,
   "metadata": {},
   "outputs": [
    {
     "ename": "ApplicationError",
     "evalue": "Non-zero return code 4294967295 from '\"C:\\\\Program Files (x86)\\\\ClustalW2\\\\clustalw2.exe\" -infile=Data/SequenceD.fasta', message 'ERROR: No sequences in file. No alignment!'",
     "output_type": "error",
     "traceback": [
      "\u001b[1;31m---------------------------------------------------------------------------\u001b[0m",
      "\u001b[1;31mApplicationError\u001b[0m                          Traceback (most recent call last)",
      "Input \u001b[1;32mIn [20]\u001b[0m, in \u001b[0;36m<cell line: 41>\u001b[1;34m()\u001b[0m\n\u001b[0;32m     39\u001b[0m clustalw_cline \u001b[38;5;241m=\u001b[39m ClustalwCommandline(clustalw_exe, infile \u001b[38;5;241m=\u001b[39m \u001b[38;5;124m\"\u001b[39m\u001b[38;5;124mData/SequenceD.fasta\u001b[39m\u001b[38;5;124m\"\u001b[39m)\n\u001b[0;32m     40\u001b[0m \u001b[38;5;28;01massert\u001b[39;00m os\u001b[38;5;241m.\u001b[39mpath\u001b[38;5;241m.\u001b[39misfile(clustalw_exe), \u001b[38;5;124m\"\u001b[39m\u001b[38;5;124mClustal_W executable is missing or not found\u001b[39m\u001b[38;5;124m\"\u001b[39m\n\u001b[1;32m---> 41\u001b[0m stout,stderr \u001b[38;5;241m=\u001b[39m \u001b[43mclustalw_cline\u001b[49m\u001b[43m(\u001b[49m\u001b[43m)\u001b[49m\n\u001b[0;32m     43\u001b[0m ClustalAlign \u001b[38;5;241m=\u001b[39m AlignIO\u001b[38;5;241m.\u001b[39mread(\u001b[38;5;124m\"\u001b[39m\u001b[38;5;124mData/SequenceD.aln\u001b[39m\u001b[38;5;124m\"\u001b[39m, \u001b[38;5;124m\"\u001b[39m\u001b[38;5;124mclustal\u001b[39m\u001b[38;5;124m\"\u001b[39m)\n\u001b[0;32m     45\u001b[0m calculator \u001b[38;5;241m=\u001b[39m DistanceCalculator(\u001b[38;5;124m'\u001b[39m\u001b[38;5;124midentity\u001b[39m\u001b[38;5;124m'\u001b[39m)\n",
      "File \u001b[1;32m~\\anaconda3\\lib\\site-packages\\Bio\\Application\\__init__.py:574\u001b[0m, in \u001b[0;36mAbstractCommandline.__call__\u001b[1;34m(self, stdin, stdout, stderr, cwd, env)\u001b[0m\n\u001b[0;32m    571\u001b[0m     stderr_arg\u001b[38;5;241m.\u001b[39mclose()\n\u001b[0;32m    573\u001b[0m \u001b[38;5;28;01mif\u001b[39;00m return_code:\n\u001b[1;32m--> 574\u001b[0m     \u001b[38;5;28;01mraise\u001b[39;00m ApplicationError(return_code, \u001b[38;5;28mstr\u001b[39m(\u001b[38;5;28mself\u001b[39m), stdout_str, stderr_str)\n\u001b[0;32m    575\u001b[0m \u001b[38;5;28;01mreturn\u001b[39;00m stdout_str, stderr_str\n",
      "\u001b[1;31mApplicationError\u001b[0m: Non-zero return code 4294967295 from '\"C:\\\\Program Files (x86)\\\\ClustalW2\\\\clustalw2.exe\" -infile=Data/SequenceD.fasta', message 'ERROR: No sequences in file. No alignment!'"
     ]
    }
   ],
   "source": [
    "from Bio.Phylo.TreeConstruction import DistanceTreeConstructor\n",
    "from Bio.Phylo.TreeConstruction import DistanceCalculator \n",
    "from Bio.Align.Applications import ClustalwCommandline\n",
    "from Bio import AlignIO\n",
    "from Bio import Phylo\n",
    "from Bio import Entrez\n",
    "from Bio import SeqIO\n",
    "import Bio\n",
    "import warnings\n",
    "warnings.filterwarnings('ignore')\n",
    "import os\n",
    "import matplotlib\n",
    "import matplotlib.pyplot as plt\n",
    "\n",
    "with open(\"sequence.seq\",\"r\") as archivo:\n",
    "    b=archivo.read()\n",
    "    c=b.split('\\n')\n",
    "    a=0\n",
    "    ListID=[]\n",
    "    for line in c:\n",
    "        if a != 10:\n",
    "            ListID.append(line)\n",
    "            a=a+1\n",
    "\n",
    "Entrez.email = \"gualapuro.moises@gmail.com\" \n",
    "ofile=open('Data/SequenceD.gb','w')\n",
    "with Entrez.efetch( db=\"nucleotide\", rettype=\"gb\", retmode=\"text\", id= ListID) as handle: \n",
    "    for seq_record in SeqIO.parse(handle, \"gb\"): \n",
    "        ofile.write(\">\"+str(seq_record.id)+str(seq_record.description[:50])+'\\n')\n",
    "        ofile.write(str(seq_record.seq)+'\\n')\n",
    "        ofile.write('\\n')\n",
    "ffile=open('Data/SequenceD.fasta','w')\n",
    "with open(\"Data/SequenceD.gb\",'r') as genbank:\n",
    "    c=genbank.read()\n",
    "    for line in c:\n",
    "        ffile.write(str(line))\n",
    "\n",
    "clustalw_exe = r\"C:\\Program Files (x86)\\ClustalW2\\clustalw2.exe\"\n",
    "clustalw_cline = ClustalwCommandline(clustalw_exe, infile = \"Data/SequenceD.fasta\")\n",
    "assert os.path.isfile(clustalw_exe), \"Clustal_W executable is missing or not found\"\n",
    "stout,stderr = clustalw_cline()\n",
    "\n",
    "ClustalAlign = AlignIO.read(\"Data/SequenceD.aln\", \"clustal\")\n",
    "\n",
    "calculator = DistanceCalculator('identity')\n",
    "distance_matrix = calculator.get_distance(ClustalAlign)\n",
    "\n",
    "constructor = DistanceTreeConstructor(calculator)\n",
    "Data_tree = constructor.build_tree(ClustalAlign)\n",
    "Data_tree.rooted = True\n",
    "\n",
    "Phylo.write(Data_tree, \"Data/Data_tree.xml\", \"phyloxml\")\n",
    "\n",
    "fig = plt.figure(figsize=(20, 25), dpi=200)  \n",
    "matplotlib.rc('font', size=12)               \n",
    "matplotlib.rc('xtick', labelsize=10)       \n",
    "matplotlib.rc('ytick', labelsize=10)       \n",
    "axes = fig.add_subplot(1, 1, 1)\n",
    "Phylo.draw(Data_tree, axes=axes)"
   ]
  },
  {
   "cell_type": "code",
   "execution_count": null,
   "metadata": {},
   "outputs": [],
   "source": []
  },
  {
   "cell_type": "markdown",
   "metadata": {
    "id": "G_5ya47tMX8U"
   },
   "source": [
    "**Escriba aquí la interpretación del árbol**"
   ]
  },
  {
   "cell_type": "markdown",
   "metadata": {
    "id": "QBnlC21lMX8V"
   },
   "source": [
    "## Ejercicio 6 [1 punto]\n",
    "\n",
    "\n",
    "1. Cree en GitHub un repositorio de nombre ```GBI6_ExamenPython```. \n",
    "2. Cree un archivo ```Readme.md``` que debe tener lo siguiente:\n",
    "- Datos personales\n",
    "- Características del computador\n",
    "- Versión de Python/Anaconda y de cada uno de los módulos/paquetes y utilizados\n",
    "- Explicación de la data utilizada\n",
    "- Un diagrama de procesos del módulo ```miningscience```\n",
    "3. Asegurarse que su repositorio tiene las carpetas ```data``` e ```img``` con los archivos que ha ido guardando en las preguntas anteriores.  \n",
    "4. Realice al menos 1 control de la versión (commits) por cada ejercicio (del 1 al 5), con un mensaje que inicie como: \n",
    "\n",
    "```sh \n",
    "Carlitos Alimaña ha realizado el ejercicio 1  \n",
    "```\n",
    "```sh \n",
    "Carlitos Alimaña ha realizado el ejercicio 2\n",
    "```\n",
    "```sh \n",
    "...\n",
    "```\n"
   ]
  },
  {
   "cell_type": "code",
   "execution_count": null,
   "metadata": {
    "id": "Hq4JG1WWMX8Y"
   },
   "outputs": [],
   "source": []
  }
 ],
 "metadata": {
  "colab": {
   "name": "2022I_GBI6G01_ExamenPython.ipynb",
   "provenance": []
  },
  "kernelspec": {
   "display_name": "Python 3 (ipykernel)",
   "language": "python",
   "name": "python3"
  },
  "language_info": {
   "codemirror_mode": {
    "name": "ipython",
    "version": 3
   },
   "file_extension": ".py",
   "mimetype": "text/x-python",
   "name": "python",
   "nbconvert_exporter": "python",
   "pygments_lexer": "ipython3",
   "version": "3.9.12"
  },
  "latex_envs": {
   "LaTeX_envs_menu_present": true,
   "autoclose": false,
   "autocomplete": true,
   "bibliofile": "biblio.bib",
   "cite_by": "apalike",
   "current_citInitial": 1,
   "eqLabelWithNumbers": true,
   "eqNumInitial": 1,
   "hotkeys": {
    "equation": "Ctrl-E",
    "itemize": "Ctrl-I"
   },
   "labels_anchors": false,
   "latex_user_defs": false,
   "report_style_numbering": false,
   "user_envs_cfg": false
  },
  "toc": {
   "base_numbering": 1,
   "nav_menu": {},
   "number_sections": true,
   "sideBar": false,
   "skip_h1_title": false,
   "title_cell": "Table of Contents",
   "title_sidebar": "Contents",
   "toc_cell": false,
   "toc_position": {
    "height": "1152.67px",
    "left": "41px",
    "top": "110px",
    "width": "253.458px"
   },
   "toc_section_display": true,
   "toc_window_display": false
  },
  "varInspector": {
   "cols": {
    "lenName": 16,
    "lenType": 16,
    "lenVar": 40
   },
   "kernels_config": {
    "python": {
     "delete_cmd_postfix": "",
     "delete_cmd_prefix": "del ",
     "library": "var_list.py",
     "varRefreshCmd": "print(var_dic_list())"
    },
    "r": {
     "delete_cmd_postfix": ") ",
     "delete_cmd_prefix": "rm(",
     "library": "var_list.r",
     "varRefreshCmd": "cat(var_dic_list()) "
    }
   },
   "types_to_exclude": [
    "module",
    "function",
    "builtin_function_or_method",
    "instance",
    "_Feature"
   ],
   "window_display": false
  }
 },
 "nbformat": 4,
 "nbformat_minor": 1
}
